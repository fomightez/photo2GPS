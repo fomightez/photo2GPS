{
 "cells": [
  {
   "cell_type": "markdown",
   "metadata": {},
   "source": [
    "# Collecting GPS coordinates from photo metadata\n",
    "\n",
    "For orientation:  \n",
    "This page is the main panel and to the left you should see a 'file browser' panel listing some folders and files, including this one. You may need to click and drag the border in between the two panes in order to better see the names. In particular you want to look for a folder icon next the name 'PUT_PHOTOS_HERE'.\n",
    "\n",
    "**Follow the steps below.**\n",
    "\n",
    "----------------------"
   ]
  },
  {
   "cell_type": "markdown",
   "metadata": {},
   "source": [
    "## PART 1: Upload the photos and collect the data\n",
    "\n",
    "1. Double-click on 'PUT_PHOTOS_HERE' folder icon in the file browser panel to the left of this page. That will drop the navigation into the empty folder.\n",
    "\n",
    "2. Drag-and-drop all the photos into the empty file browser panel to the left of this page. (A gray dashed line will appear around the edge of the file browser when drag the file onto the file browser pane & at this point you can drop a file or files in by releasing the mouse button.)\n",
    "\n",
    "3. Give the photos time to upload.\n",
    "\n",
    "4. At the top of the panel where you just dragged the photos & to the left of the 'PUT_PHOTOS_HERE' text, click on the `Home` icon to go back up to the level above the photos files in the file heierarchy.\n",
    "\n",
    "5. Click in the next cell and execute the commands in it by typing `shift-return` (or hit the `play` icon the menu at the top bar of this page)."
   ]
  },
  {
   "cell_type": "code",
   "execution_count": 1,
   "metadata": {},
   "outputs": [],
   "source": [
    "output_file = \"coords.tsv\"\n",
    "#The following command is based on Phil Harvey's answer on January 20, 2011, 07:30:32 PM, &\n",
    "# comment on on: January 20, 2011 to add the -n option, from\n",
    "# http://u88.n24.queensu.ca/exiftool/forum/index.php?topic=3075.0\n",
    "!exiftool -filename -gpslatitude -gpslongitude -T -n PUT_PHOTOS_HERE > {output_file}\n",
    "# add column names\n",
    "!sed -i '1ifile_name\\tlat\\t\\long' {output_file}"
   ]
  },
  {
   "cell_type": "markdown",
   "metadata": {},
   "source": [
    "It should generate a file named `coords.tsv` & after a few seconds to let the file browser panel refresh itself, you should now see it listed among the files in the file browser panel. \n",
    "\n",
    "View the extracted data by double-clicking *TWICE* on the `coords.tsv` icon. Alternatively, you can open it by right-clicking on it and selecting to 'Open With' > 'TSVTable'.\n",
    "\n",
    "## PART 2: Bring the data onto your computer\n",
    "\n",
    "If you are working on Firefox, you can right click on `coords.tsv` in the file browser panel, select 'Download' to save the file to your local system. Then you can pick up with Step#4 of Option #2 below.  \n",
    "If you are using Chrome, read on.\n",
    "\n",
    "Two possible ways are given below. The first is easy, but it relies on trusting the cop-paste will work flawlessly. The idea is to open the data as text and then copy it, and paste your spreadsheet program, Excel or Google Sheets, an then paste in the text from the `coords.tsv`. The trick here is that you\n",
    "\n",
    "**Option #1 for bring data local:**\n",
    "\n",
    "1. Open your spreadsheet program, Excel or Google Sheets, and make a new file. Then return here.\n",
    "\n",
    "2. Right-click on `coords.tsv` file you generated listed in the file browser pane and select 'Open With' > 'Editor'.\n",
    "\n",
    "3. Select and copy all the contents of the file page that opens.\n",
    "\n",
    "4. Paste that into the top, most left cell in your fresh spreadsheet file. Each value or label should occupy the correct cell in your spreadsheet and you can go ahead and save it. If all the contents end up in one cell or it is clearly jumbled, try option #2.\n",
    "\n",
    "The second option is also easy (maybe even easier), but it is a bit clunky due to a minor glitch in the system right now that essentialy means file downloads from the file browser panel are blocked. The word around is to revert to the older interface by changing the end of the URL. The problem is you'll lose this page when it happens and so be sure to read the steps to determine what to do.\n",
    "\n",
    "\n",
    "**Option #2 for bring data local:**\n",
    "\n",
    "1. In the address bar for your browser, change the end if the url from reading `/lab` to `/tree`. (It may question you leaving the page but say you want to leave because your data is already saved.) This will cause the page to refresh.\n",
    "\n",
    "2. You now should see the `coords.tsv` file you generated listed in the file navigation page. Check the box next to it and then at the top of the file navigation page, click the 'Download' button.\n",
    "\n",
    "3. You should then be able to then select where to save it, and then go ahead and click `Save` in the button right of the 'Save' screen to download to your local system. You may then wish to rename it on your local system. \n",
    "\n",
    "4. You should be able to directly open this file from within your favorite spreadsheet program, Excel or Google Sheets, and it should automatically open with the correct labels and values in the right cells so it looks much like when you viewed in the the 'TSVTable' view earlier. Save as a spreadsheet file.\n"
   ]
  },
  {
   "cell_type": "markdown",
   "metadata": {},
   "source": [
    "---- \n",
    "\n",
    "----"
   ]
  }
 ],
 "metadata": {
  "anaconda-cloud": {},
  "kernelspec": {
   "display_name": "Python 3",
   "language": "python",
   "name": "python3"
  },
  "language_info": {
   "codemirror_mode": {
    "name": "ipython",
    "version": 3
   },
   "file_extension": ".py",
   "mimetype": "text/x-python",
   "name": "python",
   "nbconvert_exporter": "python",
   "pygments_lexer": "ipython3",
   "version": "3.7.3"
  }
 },
 "nbformat": 4,
 "nbformat_minor": 2
}
