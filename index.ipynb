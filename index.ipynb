{
 "cells": [
  {
   "cell_type": "markdown",
   "metadata": {},
   "source": [
    "# Collecting GPS coordinates from photo metadata\n",
    "\n",
    "Follow these steps.\n",
    "\n",
    "----------------------"
   ]
  },
  {
   "cell_type": "markdown",
   "metadata": {},
   "source": [
    "1. Double-click on 'PUT_PHOTOS_HERE' folder icon in the navigation panel to the left of this page. That will drop the navigation into the empty folder.\n",
    "\n",
    "2. Drag-and-drop photos into the panel to the left for the empty folder.\n",
    "\n",
    "3. At the top of the panel where you just dragged the photos, click on the house icon to go back up to the level above the photos files in the file heierarchy.\n",
    "\n",
    "4. Click in the next cell and run the commands in it by typing `shift-return` (or hit the `play` button the menu at the top bar of this page."
   ]
  },
  {
   "cell_type": "code",
   "execution_count": 4,
   "metadata": {},
   "outputs": [],
   "source": [
    "#This command is based on Phil Harvey's answer on January 20, 2011, 07:30:32 PM , and\n",
    "# comment on on: January 20, 2011 to add the -n option, from\n",
    "# http://u88.n24.queensu.ca/exiftool/forum/index.php?topic=3075.0\n",
    "!exiftool -filename -gpslatitude -gpslongitude -gpsposition -T -n PUT_PHOTOS_HERE > coords.tsv\n",
    "\n",
    "\n",
    "\n"
   ]
  },
  {
   "cell_type": "code",
   "execution_count": 6,
   "metadata": {},
   "outputs": [],
   "source": []
  },
  {
   "cell_type": "code",
   "execution_count": null,
   "metadata": {},
   "outputs": [
    {
     "name": "stdout",
     "output_type": "stream",
     "text": [
      ".\n"
     ]
    }
   ],
   "source": [
    "import time\n",
    "\n",
    "def executeSomething():\n",
    "    #code here\n",
    "    print ('.')\n",
    "    time.sleep(480) #60 seconds times 8 minutes\n",
    "\n",
    "while True:\n",
    "    executeSomething()"
   ]
  },
  {
   "cell_type": "code",
   "execution_count": null,
   "metadata": {},
   "outputs": [],
   "source": []
  }
 ],
 "metadata": {
  "anaconda-cloud": {},
  "kernelspec": {
   "display_name": "Python 3",
   "language": "python",
   "name": "python3"
  },
  "language_info": {
   "codemirror_mode": {
    "name": "ipython",
    "version": 3
   },
   "file_extension": ".py",
   "mimetype": "text/x-python",
   "name": "python",
   "nbconvert_exporter": "python",
   "pygments_lexer": "ipython3",
   "version": "3.7.3"
  }
 },
 "nbformat": 4,
 "nbformat_minor": 2
}
